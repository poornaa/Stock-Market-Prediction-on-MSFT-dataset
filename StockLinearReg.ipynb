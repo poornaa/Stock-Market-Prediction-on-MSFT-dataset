{
  "nbformat": 4,
  "nbformat_minor": 0,
  "metadata": {
    "colab": {
      "name": "StockLinearReg.ipynb",
      "provenance": [],
      "collapsed_sections": []
    },
    "kernelspec": {
      "name": "python3",
      "display_name": "Python 3"
    }
  },
  "cells": [
    {
      "cell_type": "code",
      "metadata": {
        "id": "yilfAGCMQLLE",
        "colab_type": "code",
        "colab": {
          "base_uri": "https://localhost:8080/",
          "height": 122
        },
        "outputId": "38e4eac5-700b-450f-f9f6-1b995be491c2"
      },
      "source": [
        "from google.colab import drive\n",
        "drive.mount('/content/drive')"
      ],
      "execution_count": null,
      "outputs": [
        {
          "output_type": "stream",
          "text": [
            "Go to this URL in a browser: https://accounts.google.com/o/oauth2/auth?client_id=947318989803-6bn6qk8qdgf4n4g3pfee6491hc0brc4i.apps.googleusercontent.com&redirect_uri=urn%3aietf%3awg%3aoauth%3a2.0%3aoob&response_type=code&scope=email%20https%3a%2f%2fwww.googleapis.com%2fauth%2fdocs.test%20https%3a%2f%2fwww.googleapis.com%2fauth%2fdrive%20https%3a%2f%2fwww.googleapis.com%2fauth%2fdrive.photos.readonly%20https%3a%2f%2fwww.googleapis.com%2fauth%2fpeopleapi.readonly\n",
            "\n",
            "Enter your authorization code:\n",
            "··········\n",
            "Mounted at /content/drive\n"
          ],
          "name": "stdout"
        }
      ]
    },
    {
      "cell_type": "code",
      "metadata": {
        "id": "diRzuZwQRp87",
        "colab_type": "code",
        "colab": {
          "base_uri": "https://localhost:8080/",
          "height": 34
        },
        "outputId": "a4c3a458-c69a-40cc-cbb9-fb689c69c54b"
      },
      "source": [
        "ls"
      ],
      "execution_count": null,
      "outputs": [
        {
          "output_type": "stream",
          "text": [
            "\u001b[0m\u001b[01;34mdrive\u001b[0m/  \u001b[01;34msample_data\u001b[0m/\n"
          ],
          "name": "stdout"
        }
      ]
    },
    {
      "cell_type": "code",
      "metadata": {
        "id": "-D1D-NXjR2mJ",
        "colab_type": "code",
        "colab": {
          "base_uri": "https://localhost:8080/",
          "height": 34
        },
        "outputId": "b541bd17-3490-4954-d79b-48d72194c6bb"
      },
      "source": [
        "cd \"drive/My Drive/Internship/\""
      ],
      "execution_count": null,
      "outputs": [
        {
          "output_type": "stream",
          "text": [
            "/content/drive/My Drive/Internship\n"
          ],
          "name": "stdout"
        }
      ]
    },
    {
      "cell_type": "code",
      "metadata": {
        "id": "oQaIjlsdSbea",
        "colab_type": "code",
        "colab": {
          "base_uri": "https://localhost:8080/",
          "height": 51
        },
        "outputId": "f70e4ed2-b5b8-42f8-dcc7-71acd9686ccc"
      },
      "source": [
        "ls"
      ],
      "execution_count": null,
      "outputs": [
        {
          "output_type": "stream",
          "text": [
            " MSFT1.csv   msft.us.txt           'Sentiment Analysis.ipynb'  'TCS SA.ipynb'\n",
            " MSFT.csv    NSE-TATAGLOBAL11.csv   TCS.NS.csv\n"
          ],
          "name": "stdout"
        }
      ]
    },
    {
      "cell_type": "code",
      "metadata": {
        "id": "IwjDbijsRBe4",
        "colab_type": "code",
        "colab": {}
      },
      "source": [
        "import pandas as pd\n",
        "import numpy as np\n",
        "import matplotlib.pyplot as plt\n",
        "from sklearn.linear_model import LinearRegression\n",
        "from sklearn.svm import SVR\n",
        "from sklearn.model_selection import train_test_split\n",
        "from sklearn.metrics import mean_squared_error, mean_absolute_error\n",
        "import math\n",
        "\n",
        "%matplotlib inline"
      ],
      "execution_count": null,
      "outputs": []
    },
    {
      "cell_type": "code",
      "metadata": {
        "id": "4arLjIHORW0g",
        "colab_type": "code",
        "colab": {}
      },
      "source": [
        "from matplotlib.pylab import rcParams\n",
        "rcParams['figure.figsize'] = 20,10\n"
      ],
      "execution_count": null,
      "outputs": []
    },
    {
      "cell_type": "code",
      "metadata": {
        "id": "gOSgi-odRdxI",
        "colab_type": "code",
        "colab": {}
      },
      "source": [
        "from sklearn.preprocessing import MinMaxScaler\n",
        "scaler = MinMaxScaler(feature_range=(0, 1))"
      ],
      "execution_count": null,
      "outputs": []
    },
    {
      "cell_type": "code",
      "metadata": {
        "id": "OYPxCRQiRjeZ",
        "colab_type": "code",
        "colab": {
          "base_uri": "https://localhost:8080/",
          "height": 419
        },
        "outputId": "a45298d3-f867-48e2-e50a-37d1499a6e66"
      },
      "source": [
        "df = pd.read_csv('MSFT.csv')\n",
        "df"
      ],
      "execution_count": null,
      "outputs": [
        {
          "output_type": "execute_result",
          "data": {
            "text/html": [
              "<div>\n",
              "<style scoped>\n",
              "    .dataframe tbody tr th:only-of-type {\n",
              "        vertical-align: middle;\n",
              "    }\n",
              "\n",
              "    .dataframe tbody tr th {\n",
              "        vertical-align: top;\n",
              "    }\n",
              "\n",
              "    .dataframe thead th {\n",
              "        text-align: right;\n",
              "    }\n",
              "</style>\n",
              "<table border=\"1\" class=\"dataframe\">\n",
              "  <thead>\n",
              "    <tr style=\"text-align: right;\">\n",
              "      <th></th>\n",
              "      <th>Date</th>\n",
              "      <th>Open</th>\n",
              "      <th>High</th>\n",
              "      <th>Low</th>\n",
              "      <th>Close</th>\n",
              "      <th>Adj Close</th>\n",
              "      <th>Volume</th>\n",
              "    </tr>\n",
              "  </thead>\n",
              "  <tbody>\n",
              "    <tr>\n",
              "      <th>0</th>\n",
              "      <td>2019-07-09</td>\n",
              "      <td>136.000000</td>\n",
              "      <td>136.970001</td>\n",
              "      <td>135.800003</td>\n",
              "      <td>136.460007</td>\n",
              "      <td>134.801239</td>\n",
              "      <td>19953100</td>\n",
              "    </tr>\n",
              "    <tr>\n",
              "      <th>1</th>\n",
              "      <td>2019-07-10</td>\n",
              "      <td>137.130005</td>\n",
              "      <td>138.580002</td>\n",
              "      <td>137.020004</td>\n",
              "      <td>137.850006</td>\n",
              "      <td>136.174347</td>\n",
              "      <td>24204400</td>\n",
              "    </tr>\n",
              "    <tr>\n",
              "      <th>2</th>\n",
              "      <td>2019-07-11</td>\n",
              "      <td>138.199997</td>\n",
              "      <td>139.220001</td>\n",
              "      <td>137.869995</td>\n",
              "      <td>138.399994</td>\n",
              "      <td>136.717636</td>\n",
              "      <td>22327900</td>\n",
              "    </tr>\n",
              "    <tr>\n",
              "      <th>3</th>\n",
              "      <td>2019-07-12</td>\n",
              "      <td>138.850006</td>\n",
              "      <td>139.130005</td>\n",
              "      <td>138.009995</td>\n",
              "      <td>138.899994</td>\n",
              "      <td>137.211563</td>\n",
              "      <td>18936800</td>\n",
              "    </tr>\n",
              "    <tr>\n",
              "      <th>4</th>\n",
              "      <td>2019-07-15</td>\n",
              "      <td>139.440002</td>\n",
              "      <td>139.539993</td>\n",
              "      <td>138.460007</td>\n",
              "      <td>138.899994</td>\n",
              "      <td>137.211563</td>\n",
              "      <td>16651500</td>\n",
              "    </tr>\n",
              "    <tr>\n",
              "      <th>...</th>\n",
              "      <td>...</td>\n",
              "      <td>...</td>\n",
              "      <td>...</td>\n",
              "      <td>...</td>\n",
              "      <td>...</td>\n",
              "      <td>...</td>\n",
              "      <td>...</td>\n",
              "    </tr>\n",
              "    <tr>\n",
              "      <th>248</th>\n",
              "      <td>2020-07-01</td>\n",
              "      <td>203.139999</td>\n",
              "      <td>206.350006</td>\n",
              "      <td>201.770004</td>\n",
              "      <td>204.699997</td>\n",
              "      <td>204.699997</td>\n",
              "      <td>32061200</td>\n",
              "    </tr>\n",
              "    <tr>\n",
              "      <th>249</th>\n",
              "      <td>2020-07-02</td>\n",
              "      <td>205.679993</td>\n",
              "      <td>208.020004</td>\n",
              "      <td>205.000000</td>\n",
              "      <td>206.259995</td>\n",
              "      <td>206.259995</td>\n",
              "      <td>29315800</td>\n",
              "    </tr>\n",
              "    <tr>\n",
              "      <th>250</th>\n",
              "      <td>2020-07-06</td>\n",
              "      <td>208.830002</td>\n",
              "      <td>211.130005</td>\n",
              "      <td>208.089996</td>\n",
              "      <td>210.699997</td>\n",
              "      <td>210.699997</td>\n",
              "      <td>31897600</td>\n",
              "    </tr>\n",
              "    <tr>\n",
              "      <th>251</th>\n",
              "      <td>2020-07-07</td>\n",
              "      <td>210.449997</td>\n",
              "      <td>214.669998</td>\n",
              "      <td>207.990005</td>\n",
              "      <td>208.250000</td>\n",
              "      <td>208.250000</td>\n",
              "      <td>33600700</td>\n",
              "    </tr>\n",
              "    <tr>\n",
              "      <th>252</th>\n",
              "      <td>2020-07-08</td>\n",
              "      <td>210.070007</td>\n",
              "      <td>213.259995</td>\n",
              "      <td>208.690002</td>\n",
              "      <td>212.830002</td>\n",
              "      <td>212.830002</td>\n",
              "      <td>33559200</td>\n",
              "    </tr>\n",
              "  </tbody>\n",
              "</table>\n",
              "<p>253 rows × 7 columns</p>\n",
              "</div>"
            ],
            "text/plain": [
              "           Date        Open        High  ...       Close   Adj Close    Volume\n",
              "0    2019-07-09  136.000000  136.970001  ...  136.460007  134.801239  19953100\n",
              "1    2019-07-10  137.130005  138.580002  ...  137.850006  136.174347  24204400\n",
              "2    2019-07-11  138.199997  139.220001  ...  138.399994  136.717636  22327900\n",
              "3    2019-07-12  138.850006  139.130005  ...  138.899994  137.211563  18936800\n",
              "4    2019-07-15  139.440002  139.539993  ...  138.899994  137.211563  16651500\n",
              "..          ...         ...         ...  ...         ...         ...       ...\n",
              "248  2020-07-01  203.139999  206.350006  ...  204.699997  204.699997  32061200\n",
              "249  2020-07-02  205.679993  208.020004  ...  206.259995  206.259995  29315800\n",
              "250  2020-07-06  208.830002  211.130005  ...  210.699997  210.699997  31897600\n",
              "251  2020-07-07  210.449997  214.669998  ...  208.250000  208.250000  33600700\n",
              "252  2020-07-08  210.070007  213.259995  ...  212.830002  212.830002  33559200\n",
              "\n",
              "[253 rows x 7 columns]"
            ]
          },
          "metadata": {
            "tags": []
          },
          "execution_count": 8
        }
      ]
    },
    {
      "cell_type": "code",
      "metadata": {
        "id": "H2ZAEjS28ieI",
        "colab_type": "code",
        "colab": {
          "base_uri": "https://localhost:8080/",
          "height": 500
        },
        "outputId": "91b50d21-a85f-4133-a8e1-809762406b92"
      },
      "source": [
        "df['Date'] = pd.to_datetime(df.Date,format='%Y-%m-%d')\n",
        "df.index = df['Date']\n",
        "\n",
        "plt.figure(figsize=(16,8))\n",
        "plt.plot(df['Close'], label='Close Price history')"
      ],
      "execution_count": null,
      "outputs": [
        {
          "output_type": "execute_result",
          "data": {
            "text/plain": [
              "[<matplotlib.lines.Line2D at 0x7ffab7583da0>]"
            ]
          },
          "metadata": {
            "tags": []
          },
          "execution_count": 9
        },
        {
          "output_type": "display_data",
          "data": {
            "image/png": "[encoded data removed]",
            "text/plain": [
              "<Figure size 1152x576 with 1 Axes>"
            ]
          },
          "metadata": {
            "tags": [],
            "needs_background": "light"
          }
        }
      ]
    },
    {
      "cell_type": "code",
      "metadata": {
        "id": "_yHTMFAUJ2SS",
        "colab_type": "code",
        "colab": {
          "base_uri": "https://localhost:8080/",
          "height": 136
        },
        "outputId": "22e402aa-5365-4f10-aa9b-9bb4ba250310"
      },
      "source": [
        "df = df[['Close']] \n",
        "# Take a look at the new data \n",
        "print(df.head())\n"
      ],
      "execution_count": null,
      "outputs": [
        {
          "output_type": "stream",
          "text": [
            "                 Close\n",
            "Date                  \n",
            "2019-07-09  136.460007\n",
            "2019-07-10  137.850006\n",
            "2019-07-11  138.399994\n",
            "2019-07-12  138.899994\n",
            "2019-07-15  138.899994\n"
          ],
          "name": "stdout"
        }
      ]
    },
    {
      "cell_type": "code",
      "metadata": {
        "id": "m8U2N8-nKDfR",
        "colab_type": "code",
        "colab": {
          "base_uri": "https://localhost:8080/",
          "height": 238
        },
        "outputId": "33c4da59-cbd1-48cf-dad2-5f95b039d4e1"
      },
      "source": [
        "forecast_out = 30 #'n=30' days\n",
        "#Create another column (the target ) shifted 'n' units up\n",
        "df['Prediction'] = df[['Close']].shift(-forecast_out)\n",
        "#print the new data set\n",
        "print(df.tail())\n"
      ],
      "execution_count": null,
      "outputs": [
        {
          "output_type": "stream",
          "text": [
            "                 Close  Prediction\n",
            "Date                              \n",
            "2020-07-01  204.699997         NaN\n",
            "2020-07-02  206.259995         NaN\n",
            "2020-07-06  210.699997         NaN\n",
            "2020-07-07  208.250000         NaN\n",
            "2020-07-08  212.830002         NaN\n"
          ],
          "name": "stdout"
        },
        {
          "output_type": "stream",
          "text": [
            "/usr/local/lib/python3.6/dist-packages/ipykernel_launcher.py:3: SettingWithCopyWarning: \n",
            "A value is trying to be set on a copy of a slice from a DataFrame.\n",
            "Try using .loc[row_indexer,col_indexer] = value instead\n",
            "\n",
            "See the caveats in the documentation: https://pandas.pydata.org/pandas-docs/stable/user_guide/indexing.html#returning-a-view-versus-a-copy\n",
            "  This is separate from the ipykernel package so we can avoid doing imports until\n"
          ],
          "name": "stderr"
        }
      ]
    },
    {
      "cell_type": "code",
      "metadata": {
        "id": "Bx8cvanjKS8s",
        "colab_type": "code",
        "colab": {
          "base_uri": "https://localhost:8080/",
          "height": 1000
        },
        "outputId": "d1c356b7-d0ed-4f76-fc47-d8e8c3d7b3aa"
      },
      "source": [
        "# Convert the dataframe to a numpy array\n",
        "X = np.array(df.drop(['Prediction'],1))\n",
        "\n",
        "#Remove the last '30' rows\n",
        "X = X[:-forecast_out]\n",
        "print(X)\n"
      ],
      "execution_count": null,
      "outputs": [
        {
          "output_type": "stream",
          "text": [
            "[[136.460007]\n",
            " [137.850006]\n",
            " [138.399994]\n",
            " [138.899994]\n",
            " [138.899994]\n",
            " [137.080002]\n",
            " [136.270004]\n",
            " [136.419998]\n",
            " [136.619995]\n",
            " [138.429993]\n",
            " [139.289993]\n",
            " [140.720001]\n",
            " [140.190002]\n",
            " [141.339996]\n",
            " [141.029999]\n",
            " [140.350006]\n",
            " [136.270004]\n",
            " [138.059998]\n",
            " [136.899994]\n",
            " [132.210007]\n",
            " [134.690002]\n",
            " [135.279999]\n",
            " [138.889999]\n",
            " [137.710007]\n",
            " [135.789993]\n",
            " [138.600006]\n",
            " [133.979996]\n",
            " [133.679993]\n",
            " [136.130005]\n",
            " [138.410004]\n",
            " [137.259995]\n",
            " [138.789993]\n",
            " [137.779999]\n",
            " [133.389999]\n",
            " [135.449997]\n",
            " [135.740005]\n",
            " [135.559998]\n",
            " [138.119995]\n",
            " [137.860001]\n",
            " [136.039993]\n",
            " [137.630005]\n",
            " [140.050003]\n",
            " [139.100006]\n",
            " [137.520004]\n",
            " [136.080002]\n",
            " [136.119995]\n",
            " [137.520004]\n",
            " [137.320007]\n",
            " [136.330002]\n",
            " [137.389999]\n",
            " [138.520004]\n",
            " [141.070007]\n",
            " [139.440002]\n",
            " [139.139999]\n",
            " [137.380005]\n",
            " [139.360001]\n",
            " [139.539993]\n",
            " [137.729996]\n",
            " [139.029999]\n",
            " [137.070007]\n",
            " [134.649994]\n",
            " [136.279999]\n",
            " [138.119995]\n",
            " [137.119995]\n",
            " [135.669998]\n",
            " [138.240005]\n",
            " [139.100006]\n",
            " [139.679993]\n",
            " [139.550003]\n",
            " [141.570007]\n",
            " [140.410004]\n",
            " [139.690002]\n",
            " [137.410004]\n",
            " [138.429993]\n",
            " [136.369995]\n",
            " [137.240005]\n",
            " [139.940002]\n",
            " [140.729996]\n",
            " [144.190002]\n",
            " [142.830002]\n",
            " [144.610001]\n",
            " [143.369995]\n",
            " [143.720001]\n",
            " [144.550003]\n",
            " [144.460007]\n",
            " [144.059998]\n",
            " [144.259995]\n",
            " [145.960007]\n",
            " [146.110001]\n",
            " [147.070007]\n",
            " [147.309998]\n",
            " [148.059998]\n",
            " [149.970001]\n",
            " [150.339996]\n",
            " [150.389999]\n",
            " [149.619995]\n",
            " [149.479996]\n",
            " [149.589996]\n",
            " [151.229996]\n",
            " [152.029999]\n",
            " [152.320007]\n",
            " [151.380005]\n",
            " [149.550003]\n",
            " [149.309998]\n",
            " [149.850006]\n",
            " [149.929993]\n",
            " [151.75    ]\n",
            " [151.360001]\n",
            " [151.130005]\n",
            " [151.699997]\n",
            " [153.240005]\n",
            " [154.529999]\n",
            " [155.529999]\n",
            " [154.690002]\n",
            " [154.369995]\n",
            " [155.710007]\n",
            " [157.410004]\n",
            " [157.410004]\n",
            " [157.380005]\n",
            " [158.669998]\n",
            " [158.960007]\n",
            " [157.589996]\n",
            " [157.699997]\n",
            " [160.619995]\n",
            " [158.619995]\n",
            " [159.029999]\n",
            " [157.580002]\n",
            " [160.089996]\n",
            " [162.089996]\n",
            " [161.339996]\n",
            " [163.279999]\n",
            " [162.130005]\n",
            " [163.179993]\n",
            " [166.169998]\n",
            " [167.100006]\n",
            " [166.5     ]\n",
            " [165.699997]\n",
            " [166.720001]\n",
            " [165.039993]\n",
            " [162.279999]\n",
            " [165.460007]\n",
            " [168.039993]\n",
            " [172.779999]\n",
            " [170.229996]\n",
            " [174.380005]\n",
            " [180.119995]\n",
            " [179.899994]\n",
            " [183.630005]\n",
            " [183.889999]\n",
            " [188.699997]\n",
            " [184.440002]\n",
            " [184.710007]\n",
            " [183.710007]\n",
            " [185.350006]\n",
            " [187.229996]\n",
            " [187.279999]\n",
            " [184.419998]\n",
            " [178.589996]\n",
            " [170.889999]\n",
            " [168.070007]\n",
            " [170.169998]\n",
            " [158.179993]\n",
            " [162.009995]\n",
            " [172.789993]\n",
            " [164.509995]\n",
            " [170.550003]\n",
            " [166.270004]\n",
            " [161.570007]\n",
            " [150.619995]\n",
            " [160.919998]\n",
            " [153.630005]\n",
            " [139.059998]\n",
            " [158.830002]\n",
            " [135.419998]\n",
            " [146.570007]\n",
            " [140.399994]\n",
            " [142.710007]\n",
            " [137.350006]\n",
            " [135.979996]\n",
            " [148.339996]\n",
            " [146.919998]\n",
            " [156.110001]\n",
            " [149.699997]\n",
            " [160.229996]\n",
            " [157.710007]\n",
            " [152.110001]\n",
            " [155.259995]\n",
            " [153.830002]\n",
            " [165.270004]\n",
            " [163.490005]\n",
            " [165.130005]\n",
            " [165.139999]\n",
            " [165.509995]\n",
            " [173.699997]\n",
            " [171.880005]\n",
            " [177.039993]\n",
            " [178.600006]\n",
            " [175.059998]\n",
            " [167.820007]\n",
            " [173.520004]\n",
            " [171.419998]\n",
            " [174.550003]\n",
            " [174.050003]\n",
            " [169.809998]\n",
            " [177.429993]\n",
            " [179.210007]\n",
            " [174.570007]\n",
            " [178.839996]\n",
            " [180.759995]\n",
            " [182.539993]\n",
            " [183.600006]\n",
            " [184.679993]\n",
            " [186.740005]\n",
            " [182.509995]\n",
            " [179.75    ]\n",
            " [180.529999]\n",
            " [183.160004]\n",
            " [184.910004]\n",
            " [183.630005]\n",
            " [185.660004]\n",
            " [183.429993]\n",
            " [183.509995]\n",
            " [181.570007]]\n"
          ],
          "name": "stdout"
        }
      ]
    },
    {
      "cell_type": "code",
      "metadata": {
        "id": "fc6SvM_uKTpY",
        "colab_type": "code",
        "colab": {
          "base_uri": "https://localhost:8080/",
          "height": 663
        },
        "outputId": "ee5ec83e-d77d-407d-b799-c54a65344f6a"
      },
      "source": [
        "# Convert the dataframe to a numpy array \n",
        "y = np.array(df['Prediction'])\n",
        "# Get all of the y values except the last '30' rows\n",
        "y = y[:-forecast_out]\n",
        "print(y)\n"
      ],
      "execution_count": null,
      "outputs": [
        {
          "output_type": "stream",
          "text": [
            "[137.259995 138.789993 137.779999 133.389999 135.449997 135.740005\n",
            " 135.559998 138.119995 137.860001 136.039993 137.630005 140.050003\n",
            " 139.100006 137.520004 136.080002 136.119995 137.520004 137.320007\n",
            " 136.330002 137.389999 138.520004 141.070007 139.440002 139.139999\n",
            " 137.380005 139.360001 139.539993 137.729996 139.029999 137.070007\n",
            " 134.649994 136.279999 138.119995 137.119995 135.669998 138.240005\n",
            " 139.100006 139.679993 139.550003 141.570007 140.410004 139.690002\n",
            " 137.410004 138.429993 136.369995 137.240005 139.940002 140.729996\n",
            " 144.190002 142.830002 144.610001 143.369995 143.720001 144.550003\n",
            " 144.460007 144.059998 144.259995 145.960007 146.110001 147.070007\n",
            " 147.309998 148.059998 149.970001 150.339996 150.389999 149.619995\n",
            " 149.479996 149.589996 151.229996 152.029999 152.320007 151.380005\n",
            " 149.550003 149.309998 149.850006 149.929993 151.75     151.360001\n",
            " 151.130005 151.699997 153.240005 154.529999 155.529999 154.690002\n",
            " 154.369995 155.710007 157.410004 157.410004 157.380005 158.669998\n",
            " 158.960007 157.589996 157.699997 160.619995 158.619995 159.029999\n",
            " 157.580002 160.089996 162.089996 161.339996 163.279999 162.130005\n",
            " 163.179993 166.169998 167.100006 166.5      165.699997 166.720001\n",
            " 165.039993 162.279999 165.460007 168.039993 172.779999 170.229996\n",
            " 174.380005 180.119995 179.899994 183.630005 183.889999 188.699997\n",
            " 184.440002 184.710007 183.710007 185.350006 187.229996 187.279999\n",
            " 184.419998 178.589996 170.889999 168.070007 170.169998 158.179993\n",
            " 162.009995 172.789993 164.509995 170.550003 166.270004 161.570007\n",
            " 150.619995 160.919998 153.630005 139.059998 158.830002 135.419998\n",
            " 146.570007 140.399994 142.710007 137.350006 135.979996 148.339996\n",
            " 146.919998 156.110001 149.699997 160.229996 157.710007 152.110001\n",
            " 155.259995 153.830002 165.270004 163.490005 165.130005 165.139999\n",
            " 165.509995 173.699997 171.880005 177.039993 178.600006 175.059998\n",
            " 167.820007 173.520004 171.419998 174.550003 174.050003 169.809998\n",
            " 177.429993 179.210007 174.570007 178.839996 180.759995 182.539993\n",
            " 183.600006 184.679993 186.740005 182.509995 179.75     180.529999\n",
            " 183.160004 184.910004 183.630005 185.660004 183.429993 183.509995\n",
            " 181.570007 181.809998 181.399994 183.25     182.830002 184.910004\n",
            " 185.360001 182.919998 187.199997 188.360001 189.800003 196.839996\n",
            " 186.270004 187.740005 188.940002 193.570007 194.240005 196.320007\n",
            " 195.149994 200.570007 201.910004 197.839996 200.339996 196.330002\n",
            " 198.440002 203.509995 204.699997 206.259995 210.699997 208.25\n",
            " 212.830002]\n"
          ],
          "name": "stdout"
        }
      ]
    },
    {
      "cell_type": "code",
      "metadata": {
        "id": "snpuNH4oKcEN",
        "colab_type": "code",
        "colab": {}
      },
      "source": [
        "# Split the data into 80% training and 20% testing\n",
        "x_train, x_test, y_train, y_test = train_test_split(X, y, test_size=0.2)"
      ],
      "execution_count": null,
      "outputs": []
    },
    {
      "cell_type": "code",
      "metadata": {
        "id": "awdK9fx1KlUv",
        "colab_type": "code",
        "colab": {
          "base_uri": "https://localhost:8080/",
          "height": 51
        },
        "outputId": "b7e99a56-d317-4851-fe17-c40306d0f416"
      },
      "source": [
        "# Create and train the Support Vector Machine (Regressor) \n",
        "svr_rbf = SVR(kernel='rbf', C=1e3, gamma=0.1) \n",
        "svr_rbf.fit(x_train, y_train)"
      ],
      "execution_count": null,
      "outputs": [
        {
          "output_type": "execute_result",
          "data": {
            "text/plain": [
              "SVR(C=1000.0, cache_size=200, coef0=0.0, degree=3, epsilon=0.1, gamma=0.1,\n",
              "    kernel='rbf', max_iter=-1, shrinking=True, tol=0.001, verbose=False)"
            ]
          },
          "metadata": {
            "tags": []
          },
          "execution_count": 15
        }
      ]
    },
    {
      "cell_type": "code",
      "metadata": {
        "id": "VzmX_DYrLK5v",
        "colab_type": "code",
        "colab": {
          "base_uri": "https://localhost:8080/",
          "height": 34
        },
        "outputId": "02cf69ab-6b58-4ffa-b661-288558ce533a"
      },
      "source": [
        "# Testing Model: Score returns the coefficient of determination R^2 of the prediction. \n",
        "# The best possible score is 1.0\n",
        "svm_confidence = svr_rbf.score(x_test, y_test)\n",
        "print(\"svm confidence: \", svm_confidence)\n"
      ],
      "execution_count": null,
      "outputs": [
        {
          "output_type": "stream",
          "text": [
            "svm confidence:  0.18760127262950077\n"
          ],
          "name": "stdout"
        }
      ]
    },
    {
      "cell_type": "code",
      "metadata": {
        "id": "z0SIy0BFLLfR",
        "colab_type": "code",
        "colab": {
          "base_uri": "https://localhost:8080/",
          "height": 34
        },
        "outputId": "5ed0a97c-5a46-45ca-a622-db2280ac8bfe"
      },
      "source": [
        "# Create and train the Linear Regression  Model\n",
        "lr = LinearRegression()\n",
        "# Train the model\n",
        "lr.fit(x_train, y_train)"
      ],
      "execution_count": null,
      "outputs": [
        {
          "output_type": "execute_result",
          "data": {
            "text/plain": [
              "LinearRegression(copy_X=True, fit_intercept=True, n_jobs=None, normalize=False)"
            ]
          },
          "metadata": {
            "tags": []
          },
          "execution_count": 17
        }
      ]
    },
    {
      "cell_type": "code",
      "metadata": {
        "id": "jx202j2rLRQf",
        "colab_type": "code",
        "colab": {
          "base_uri": "https://localhost:8080/",
          "height": 34
        },
        "outputId": "3798a810-4911-469c-8481-4d06fdd5e909"
      },
      "source": [
        "# Testing Model: Score returns the coefficient of determination R^2 of the prediction. \n",
        "# The best possible score is 1.0\n",
        "lr_confidence = lr.score(x_test, y_test)\n",
        "print(\"lr confidence: \", lr_confidence)\n"
      ],
      "execution_count": null,
      "outputs": [
        {
          "output_type": "stream",
          "text": [
            "lr confidence:  0.4073009977747701\n"
          ],
          "name": "stdout"
        }
      ]
    },
    {
      "cell_type": "code",
      "metadata": {
        "id": "-hJPOWtzLYko",
        "colab_type": "code",
        "colab": {
          "base_uri": "https://localhost:8080/",
          "height": 527
        },
        "outputId": "7bd8b07e-327d-4407-fa33-1502227b0209"
      },
      "source": [
        "# Set x_forecast equal to the last 30 rows of the original data set from Close column\n",
        "x_forecast = np.array(df.drop(['Prediction'],1))[-forecast_out:]\n",
        "print(x_forecast)\n"
      ],
      "execution_count": null,
      "outputs": [
        {
          "output_type": "stream",
          "text": [
            "[[181.809998]\n",
            " [181.399994]\n",
            " [183.25    ]\n",
            " [182.830002]\n",
            " [184.910004]\n",
            " [185.360001]\n",
            " [182.919998]\n",
            " [187.199997]\n",
            " [188.360001]\n",
            " [189.800003]\n",
            " [196.839996]\n",
            " [186.270004]\n",
            " [187.740005]\n",
            " [188.940002]\n",
            " [193.570007]\n",
            " [194.240005]\n",
            " [196.320007]\n",
            " [195.149994]\n",
            " [200.570007]\n",
            " [201.910004]\n",
            " [197.839996]\n",
            " [200.339996]\n",
            " [196.330002]\n",
            " [198.440002]\n",
            " [203.509995]\n",
            " [204.699997]\n",
            " [206.259995]\n",
            " [210.699997]\n",
            " [208.25    ]\n",
            " [212.830002]]\n"
          ],
          "name": "stdout"
        }
      ]
    },
    {
      "cell_type": "code",
      "metadata": {
        "id": "UucsL75ILflr",
        "colab_type": "code",
        "colab": {
          "base_uri": "https://localhost:8080/",
          "height": 221
        },
        "outputId": "f1b94f21-61cc-494f-b61c-0791e58537e9"
      },
      "source": [
        "# Print linear regression model predictions for the next '30' days\n",
        "lr_prediction = lr.predict(x_forecast)\n",
        "print(lr_prediction)\n",
        "# Print support vector regressor model predictions for the next '30' days\n",
        "svm_prediction = svr_rbf.predict(x_forecast)\n",
        "print(svm_prediction)\n"
      ],
      "execution_count": null,
      "outputs": [
        {
          "output_type": "stream",
          "text": [
            "[183.89755272 183.57052771 185.04611879 184.71112241 186.37016158\n",
            " 186.72908558 184.7829045  188.19669255 189.12192823 190.27049429\n",
            " 195.88569279 187.45491691 188.6274106  189.58454527 193.27750308\n",
            " 193.81190301 195.47094217 194.53772317 198.86080258 199.92960324\n",
            " 196.683307   198.67734254 195.47891432 197.16188032 201.20577881\n",
            " 202.15494132 203.3992179  206.94062661 204.98647418 208.63954888]\n",
            "[200.89133171 199.2817033  185.3136703  193.63247653 145.71188021\n",
            " 140.7375937  192.08744849 151.4234684  158.82793067 158.4924508\n",
            " 163.84187805 142.09986455 156.03029487 159.31219812 162.90079824\n",
            " 163.39998025 163.8284996  163.71351056 163.85099808 163.85100058\n",
            " 163.84963876 163.85099602 163.82887425 163.85060818 163.85100065\n",
            " 163.85100065 163.85100065 163.85100065 163.85100065 163.85100065]\n"
          ],
          "name": "stdout"
        }
      ]
    },
    {
      "cell_type": "code",
      "metadata": {
        "id": "9j3aSt8iN93n",
        "colab_type": "code",
        "colab": {
          "base_uri": "https://localhost:8080/",
          "height": 979
        },
        "outputId": "c70f2788-3322-449e-8e6d-9f088b7da0ea"
      },
      "source": [
        "df1 = pd.DataFrame({'Actual': x_forecast.flatten(), 'Predicted': lr_prediction.flatten()})\n",
        "df1"
      ],
      "execution_count": null,
      "outputs": [
        {
          "output_type": "execute_result",
          "data": {
            "text/html": [
              "<div>\n",
              "<style scoped>\n",
              "    .dataframe tbody tr th:only-of-type {\n",
              "        vertical-align: middle;\n",
              "    }\n",
              "\n",
              "    .dataframe tbody tr th {\n",
              "        vertical-align: top;\n",
              "    }\n",
              "\n",
              "    .dataframe thead th {\n",
              "        text-align: right;\n",
              "    }\n",
              "</style>\n",
              "<table border=\"1\" class=\"dataframe\">\n",
              "  <thead>\n",
              "    <tr style=\"text-align: right;\">\n",
              "      <th></th>\n",
              "      <th>Actual</th>\n",
              "      <th>Predicted</th>\n",
              "    </tr>\n",
              "  </thead>\n",
              "  <tbody>\n",
              "    <tr>\n",
              "      <th>0</th>\n",
              "      <td>181.809998</td>\n",
              "      <td>183.897553</td>\n",
              "    </tr>\n",
              "    <tr>\n",
              "      <th>1</th>\n",
              "      <td>181.399994</td>\n",
              "      <td>183.570528</td>\n",
              "    </tr>\n",
              "    <tr>\n",
              "      <th>2</th>\n",
              "      <td>183.250000</td>\n",
              "      <td>185.046119</td>\n",
              "    </tr>\n",
              "    <tr>\n",
              "      <th>3</th>\n",
              "      <td>182.830002</td>\n",
              "      <td>184.711122</td>\n",
              "    </tr>\n",
              "    <tr>\n",
              "      <th>4</th>\n",
              "      <td>184.910004</td>\n",
              "      <td>186.370162</td>\n",
              "    </tr>\n",
              "    <tr>\n",
              "      <th>5</th>\n",
              "      <td>185.360001</td>\n",
              "      <td>186.729086</td>\n",
              "    </tr>\n",
              "    <tr>\n",
              "      <th>6</th>\n",
              "      <td>182.919998</td>\n",
              "      <td>184.782905</td>\n",
              "    </tr>\n",
              "    <tr>\n",
              "      <th>7</th>\n",
              "      <td>187.199997</td>\n",
              "      <td>188.196693</td>\n",
              "    </tr>\n",
              "    <tr>\n",
              "      <th>8</th>\n",
              "      <td>188.360001</td>\n",
              "      <td>189.121928</td>\n",
              "    </tr>\n",
              "    <tr>\n",
              "      <th>9</th>\n",
              "      <td>189.800003</td>\n",
              "      <td>190.270494</td>\n",
              "    </tr>\n",
              "    <tr>\n",
              "      <th>10</th>\n",
              "      <td>196.839996</td>\n",
              "      <td>195.885693</td>\n",
              "    </tr>\n",
              "    <tr>\n",
              "      <th>11</th>\n",
              "      <td>186.270004</td>\n",
              "      <td>187.454917</td>\n",
              "    </tr>\n",
              "    <tr>\n",
              "      <th>12</th>\n",
              "      <td>187.740005</td>\n",
              "      <td>188.627411</td>\n",
              "    </tr>\n",
              "    <tr>\n",
              "      <th>13</th>\n",
              "      <td>188.940002</td>\n",
              "      <td>189.584545</td>\n",
              "    </tr>\n",
              "    <tr>\n",
              "      <th>14</th>\n",
              "      <td>193.570007</td>\n",
              "      <td>193.277503</td>\n",
              "    </tr>\n",
              "    <tr>\n",
              "      <th>15</th>\n",
              "      <td>194.240005</td>\n",
              "      <td>193.811903</td>\n",
              "    </tr>\n",
              "    <tr>\n",
              "      <th>16</th>\n",
              "      <td>196.320007</td>\n",
              "      <td>195.470942</td>\n",
              "    </tr>\n",
              "    <tr>\n",
              "      <th>17</th>\n",
              "      <td>195.149994</td>\n",
              "      <td>194.537723</td>\n",
              "    </tr>\n",
              "    <tr>\n",
              "      <th>18</th>\n",
              "      <td>200.570007</td>\n",
              "      <td>198.860803</td>\n",
              "    </tr>\n",
              "    <tr>\n",
              "      <th>19</th>\n",
              "      <td>201.910004</td>\n",
              "      <td>199.929603</td>\n",
              "    </tr>\n",
              "    <tr>\n",
              "      <th>20</th>\n",
              "      <td>197.839996</td>\n",
              "      <td>196.683307</td>\n",
              "    </tr>\n",
              "    <tr>\n",
              "      <th>21</th>\n",
              "      <td>200.339996</td>\n",
              "      <td>198.677343</td>\n",
              "    </tr>\n",
              "    <tr>\n",
              "      <th>22</th>\n",
              "      <td>196.330002</td>\n",
              "      <td>195.478914</td>\n",
              "    </tr>\n",
              "    <tr>\n",
              "      <th>23</th>\n",
              "      <td>198.440002</td>\n",
              "      <td>197.161880</td>\n",
              "    </tr>\n",
              "    <tr>\n",
              "      <th>24</th>\n",
              "      <td>203.509995</td>\n",
              "      <td>201.205779</td>\n",
              "    </tr>\n",
              "    <tr>\n",
              "      <th>25</th>\n",
              "      <td>204.699997</td>\n",
              "      <td>202.154941</td>\n",
              "    </tr>\n",
              "    <tr>\n",
              "      <th>26</th>\n",
              "      <td>206.259995</td>\n",
              "      <td>203.399218</td>\n",
              "    </tr>\n",
              "    <tr>\n",
              "      <th>27</th>\n",
              "      <td>210.699997</td>\n",
              "      <td>206.940627</td>\n",
              "    </tr>\n",
              "    <tr>\n",
              "      <th>28</th>\n",
              "      <td>208.250000</td>\n",
              "      <td>204.986474</td>\n",
              "    </tr>\n",
              "    <tr>\n",
              "      <th>29</th>\n",
              "      <td>212.830002</td>\n",
              "      <td>208.639549</td>\n",
              "    </tr>\n",
              "  </tbody>\n",
              "</table>\n",
              "</div>"
            ],
            "text/plain": [
              "        Actual   Predicted\n",
              "0   181.809998  183.897553\n",
              "1   181.399994  183.570528\n",
              "2   183.250000  185.046119\n",
              "3   182.830002  184.711122\n",
              "4   184.910004  186.370162\n",
              "5   185.360001  186.729086\n",
              "6   182.919998  184.782905\n",
              "7   187.199997  188.196693\n",
              "8   188.360001  189.121928\n",
              "9   189.800003  190.270494\n",
              "10  196.839996  195.885693\n",
              "11  186.270004  187.454917\n",
              "12  187.740005  188.627411\n",
              "13  188.940002  189.584545\n",
              "14  193.570007  193.277503\n",
              "15  194.240005  193.811903\n",
              "16  196.320007  195.470942\n",
              "17  195.149994  194.537723\n",
              "18  200.570007  198.860803\n",
              "19  201.910004  199.929603\n",
              "20  197.839996  196.683307\n",
              "21  200.339996  198.677343\n",
              "22  196.330002  195.478914\n",
              "23  198.440002  197.161880\n",
              "24  203.509995  201.205779\n",
              "25  204.699997  202.154941\n",
              "26  206.259995  203.399218\n",
              "27  210.699997  206.940627\n",
              "28  208.250000  204.986474\n",
              "29  212.830002  208.639549"
            ]
          },
          "metadata": {
            "tags": []
          },
          "execution_count": 21
        }
      ]
    },
    {
      "cell_type": "code",
      "metadata": {
        "id": "7hdfOP8PPhNd",
        "colab_type": "code",
        "colab": {
          "base_uri": "https://localhost:8080/",
          "height": 516
        },
        "outputId": "418dd1e5-4b49-44bb-c55c-8fb0c69e4f22"
      },
      "source": [
        "\n",
        "ax = df1.plot(title='Linear regression predicted prices', figsize=(16, 8))#predicted value\n",
        "ax.set_ylabel(\"Stock Prices\")\n",
        "\n",
        "#fig = x_forecast.plot(ax = ax).get_figure()#actual value\n"
      ],
      "execution_count": null,
      "outputs": [
        {
          "output_type": "execute_result",
          "data": {
            "text/plain": [
              "Text(0, 0.5, 'Stock Prices')"
            ]
          },
          "metadata": {
            "tags": []
          },
          "execution_count": 26
        },
        {
          "output_type": "display_data",
          "data": {
            "image/png": "[encoded data removed]",
            "text/plain": [
              "<Figure size 1152x576 with 1 Axes>"
            ]
          },
          "metadata": {
            "tags": [],
            "needs_background": "light"
          }
        }
      ]
    },
    {
      "cell_type": "code",
      "metadata": {
        "id": "BOj2aMJvX0gZ",
        "colab_type": "code",
        "colab": {
          "base_uri": "https://localhost:8080/",
          "height": 85
        },
        "outputId": "488582e7-717e-40ec-d6f8-3a43f8e7fe71"
      },
      "source": [
        "# report performance\n",
        "mse = mean_squared_error(x_forecast, lr_prediction)\n",
        "print('MSE: '+str(mse))\n",
        "mae = mean_absolute_error(x_forecast, lr_prediction)\n",
        "print('MAE: '+str(mae))\n",
        "rmse = math.sqrt(mean_squared_error(x_forecast,lr_prediction))\n",
        "print('RMSE: '+str(rmse))\n",
        "mape = np.mean(np.abs(lr_prediction - x_forecast)/np.abs(lr_prediction))\n",
        "print('MAPE: '+str(mape))\n"
      ],
      "execution_count": null,
      "outputs": [
        {
          "output_type": "stream",
          "text": [
            "MSE: 3.520199046168502\n",
            "MAE: 1.6090417415603449\n",
            "RMSE: 1.876219349161633\n",
            "MAPE: 0.048307140836759736\n"
          ],
          "name": "stdout"
        }
      ]
    }
  ]
}